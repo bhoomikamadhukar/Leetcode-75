{
  "nbformat": 4,
  "nbformat_minor": 0,
  "metadata": {
    "colab": {
      "name": "Grind75-Week2.ipynb",
      "provenance": []
    },
    "kernelspec": {
      "name": "python3",
      "display_name": "Python 3"
    },
    "language_info": {
      "name": "python"
    }
  },
  "cells": [
    {
      "cell_type": "markdown",
      "source": [
        "# 1.\n",
        "Given a string s which consists of lowercase or uppercase letters, return the length of the longest palindrome that can be built with those letters.\n",
        "\n",
        "Letters are case sensitive, for example, \"Aa\" is not considered a palindrome here.\n",
        "\n",
        "Input: s = \"abccccdd\"\n",
        "\n",
        "\n",
        "Output: 7\n",
        "\n",
        "\n",
        "Explanation: One longest palindrome that can be built is \"dccaccd\", whose length is 7."
      ],
      "metadata": {
        "id": "xXOvw-YyGDPA"
      }
    },
    {
      "cell_type": "code",
      "execution_count": null,
      "metadata": {
        "id": "MCPgSksPF_Eq"
      },
      "outputs": [],
      "source": [
        "from collections import Counter\n",
        "def longest_palindrome(s):\n",
        "  if len(s)==1:\n",
        "    return 1\n",
        "  if s == s[::-1]:\n",
        "    return len(s)\n",
        "  freq = Counter(s)\n",
        "  out =0\n",
        "  flag = False\n",
        "  for k, v in freq.items():\n",
        "    if v%2==0:\n",
        "      out+=v\n",
        "    else:\n",
        "      out=v-1\n",
        "      flag=True\n",
        "  if flag:\n",
        "    return 1+out\n",
        "  return out\n",
        "\n"
      ]
    },
    {
      "cell_type": "code",
      "source": [
        "longest_palindrome(\"abba\")"
      ],
      "metadata": {
        "colab": {
          "base_uri": "https://localhost:8080/"
        },
        "id": "hBxoRAfuIwne",
        "outputId": "6a16c48c-ce08-4e6d-d68e-b9c1c601423a"
      },
      "execution_count": null,
      "outputs": [
        {
          "output_type": "execute_result",
          "data": {
            "text/plain": [
              "4"
            ]
          },
          "metadata": {},
          "execution_count": 4
        }
      ]
    },
    {
      "cell_type": "markdown",
      "source": [
        "# 2. \n",
        "Given two binary strings a and b, return their sum as a binary string."
      ],
      "metadata": {
        "id": "XRfj2HXxJJ59"
      }
    },
    {
      "cell_type": "code",
      "source": [
        "def binary_string(a,b):\n",
        "  int_a = int(a,2)\n",
        "  int_b = int(b,2)\n",
        "  dec_sum = int_a + int_b\n",
        "  bin_out = bin(dec_sum).replace(\"0b\",\"\")\n",
        "  return bin_out"
      ],
      "metadata": {
        "id": "7BWl8jbfI0We"
      },
      "execution_count": null,
      "outputs": []
    },
    {
      "cell_type": "code",
      "source": [
        "binary_string(\"11\",\"1\")"
      ],
      "metadata": {
        "colab": {
          "base_uri": "https://localhost:8080/",
          "height": 35
        },
        "id": "n0bokbsbKE3h",
        "outputId": "7940e066-30f9-4e5c-c3b8-dc389cd276c4"
      },
      "execution_count": null,
      "outputs": [
        {
          "output_type": "execute_result",
          "data": {
            "text/plain": [
              "'100'"
            ],
            "application/vnd.google.colaboratory.intrinsic+json": {
              "type": "string"
            }
          },
          "metadata": {},
          "execution_count": 10
        }
      ]
    },
    {
      "cell_type": "markdown",
      "source": [
        "# 3. \n",
        "Given the root of a binary tree, return its maximum depth.\n",
        "\n",
        "A binary tree's maximum depth is the number of nodes along the longest path from the root node down to the farthest leaf node."
      ],
      "metadata": {
        "id": "DfnIfnNpK6KD"
      }
    },
    {
      "cell_type": "code",
      "source": [
        "def maxDepth(root):\n",
        "  def dfs(root):\n",
        "    if root is None:\n",
        "      return 0\n",
        "    while root:\n",
        "      left = dfs(root.left)\n",
        "      right = dfs(root.right)\n",
        "    return 1+ max(left+right)\n",
        "  return dfs(root)"
      ],
      "metadata": {
        "id": "49IBbCioKHa0"
      },
      "execution_count": null,
      "outputs": []
    },
    {
      "cell_type": "markdown",
      "source": [
        "# 4.\n",
        "Design a stack that supports push, pop, top, and retrieving the minimum element in constant time.\n",
        "\n",
        "Implement the MinStack class:\n",
        "\n",
        "MinStack() initializes the stack object.\n",
        "void push(int val) pushes the element val onto the stack.\n",
        "void pop() removes the element on the top of the stack.\n",
        "int top() gets the top element of the stack.\n",
        "int getMin() retrieves the minimum element in the stack.\n",
        "You must implement a solution with O(1) time complexity for each function."
      ],
      "metadata": {
        "id": "1t-Fd75cPFyr"
      }
    },
    {
      "cell_type": "code",
      "source": [
        "class MinStack:\n",
        "  def __init__(self) -> None:\n",
        "      self.tmpstack =[]\n",
        "      self.outstack =[]\n",
        "  def push(val):\n",
        "    self.outstack.append(val)\n",
        "    if self.tmpstack:\n",
        "      val = min(val, self.tmpstack[-1])\n",
        "    else:\n",
        "      val = min(val,val)\n",
        "    self.tmpstack.append(val)\n",
        "  def pop():\n",
        "    self.outstack.pop()\n",
        "    self.tmpstack.pop()\n",
        "  def getTop():\n",
        "    self.outstack[-1]\n",
        "  def getMin():\n",
        "    self.tmpstack[-1]\n",
        "      "
      ],
      "metadata": {
        "id": "6XT9ci0oMpLs"
      },
      "execution_count": null,
      "outputs": []
    },
    {
      "cell_type": "markdown",
      "source": [
        "# 5.\n",
        "Implement a first in first out (FIFO) queue using only two stacks. The implemented queue should support all the functions of a normal queue (push, peek, pop, and empty).\n",
        "\n",
        "Implement the MyQueue class:\n",
        "\n",
        "void push(int x) Pushes element x to the back of the queue.\n",
        "int pop() Removes the element from the front of the queue and returns it.\n",
        "int peek() Returns the element at the front of the queue.\n",
        "boolean empty() Returns true if the queue is empty, false otherwise."
      ],
      "metadata": {
        "id": "lrPAxvfRQlQg"
      }
    },
    {
      "cell_type": "code",
      "source": [
        "class Queuestack:\n",
        "  def __init__(self)->None:\n",
        "    self.input=[]\n",
        "    self.output =[]\n",
        "\n",
        "  def push(val):\n",
        "    self.input.append(val)\n",
        "\n",
        "  def pop():\n",
        "    if len(self.output):\n",
        "      return self.output.pop()\n",
        "    else:\n",
        "      while len(self.input):\n",
        "        self.output.append(self.input.pop())\n",
        "        return self.output.pop()\n",
        "\n",
        "  def peek():\n",
        "    if len(self.output)==0:\n",
        "      while len(self.input):\n",
        "        self.output.append(self.input.pop())\n",
        "    cur = self.output.pop()\n",
        "    self.output.append(cur)\n",
        "    return cur\n",
        "\n",
        "  def empty():\n",
        "    return len(self.input)==0 and len(self.output)==0\n",
        "\n",
        "\n"
      ],
      "metadata": {
        "id": "DPS6lZP2Qbmp"
      },
      "execution_count": null,
      "outputs": []
    },
    {
      "cell_type": "markdown",
      "source": [
        "#6. \n",
        "You are a product manager and currently leading a team to develop a new product. Unfortunately, the latest version of your product fails the quality check. Since each version is developed based on the previous version, all the versions after a bad version are also bad.\n",
        "\n",
        "Suppose you have n versions [1, 2, ..., n] and you want to find out the first bad one, which causes all the following ones to be bad.\n",
        "\n",
        "You are given an API bool isBadVersion(version) which returns "
      ],
      "metadata": {
        "id": "Rq8m3y3bGVwk"
      }
    },
    {
      "cell_type": "code",
      "source": [
        "def firstBadVersion(n):\n",
        "  head = 1\n",
        "  tail = n\n",
        "  mid = n//2\n",
        "  while True:\n",
        "    if firstBadVersion(mid):\n",
        "      tail = mid\n",
        "      mid = head+(tail- head)//2\n",
        "    else:\n",
        "      head = mid +1\n",
        "      mid = head+(tail-head)//2"
      ],
      "metadata": {
        "id": "ND2Oj941GVas"
      },
      "execution_count": null,
      "outputs": []
    },
    {
      "cell_type": "markdown",
      "source": [
        "#7. \n",
        "\n",
        "Given the head of a singly linked list, return the middle node of the linked list.\n",
        "\n",
        "If there are two middle nodes, return the second middle node."
      ],
      "metadata": {
        "id": "uhcIXrWoI-3h"
      }
    },
    {
      "cell_type": "code",
      "source": [
        "def middleNode(head):\n",
        "  slow = head\n",
        "  fast = head\n",
        "  while fast and fast.next:\n",
        "    slow = slow.next\n",
        "    fast = fast.next.next\n",
        "  return slow"
      ],
      "metadata": {
        "id": "L0fEVQ9SI-MJ"
      },
      "execution_count": null,
      "outputs": []
    },
    {
      "cell_type": "markdown",
      "source": [
        "#8. \n",
        "You are climbing a staircase. It takes n steps to reach the top.\n",
        "\n",
        "Each time you can either climb 1 or 2 steps. In how many distinct ways can you climb to the top?\n",
        "\n"
      ],
      "metadata": {
        "id": "gayfSix1Lm5G"
      }
    },
    {
      "cell_type": "code",
      "source": [
        "#this can be done with dp\n",
        "def stairs(n):\n",
        "  one, two = 1,1\n",
        "  temp =0\n",
        "  for i in range(n-1):\n",
        "    temp = one\n",
        "    one = one+two\n",
        "    two = temp\n",
        "  return one"
      ],
      "metadata": {
        "id": "0j_rHpXELmRO"
      },
      "execution_count": null,
      "outputs": []
    },
    {
      "cell_type": "code",
      "source": [
        "#fibonacci:\n",
        "def stairs(n):\n",
        "  if n in {1,2}:\n",
        "    return n\n",
        "  return self.stairs(n-1)+self.stairs(n-2)"
      ],
      "metadata": {
        "id": "cEx4k0ffNGq9"
      },
      "execution_count": null,
      "outputs": []
    },
    {
      "cell_type": "markdown",
      "source": [
        "#9. \n",
        "\n",
        "Given two strings ransomNote and magazine, return true if ransomNote can be constructed by using the letters from magazine and false otherwise.\n",
        "\n",
        "Each letter in magazine can only be used once in ransomNote.\n",
        "\n",
        "\n",
        "\n",
        "Input: ransomNote = \"a\", magazine = \"b\"\n",
        "Output: false"
      ],
      "metadata": {
        "id": "9mnp1XXsN43h"
      }
    },
    {
      "cell_type": "code",
      "source": [
        "def ransom(ransom,mag):\n",
        "  if ransom == mag:\n",
        "    return True\n",
        "  ran = Counter(ransom)\n",
        "  magg = Counter(mag)\n",
        "  for k in ran.keys():\n",
        "    if k not in magg or magg[k]<ran[k]:\n",
        "      return False\n",
        "  return True"
      ],
      "metadata": {
        "id": "YStIdZLuN4Jx"
      },
      "execution_count": 1,
      "outputs": []
    },
    {
      "cell_type": "markdown",
      "source": [
        "#10.\n",
        "\n",
        "Given the head of a singly linked list, reverse the list, and return the reversed list."
      ],
      "metadata": {
        "id": "FnjK52UmBlQg"
      }
    },
    {
      "cell_type": "code",
      "source": [
        "def reverseLinkedList(linkedlist):\n",
        "  prev = None\n",
        "  cur = linkedlist\n",
        "  while cur:\n",
        "    nxt = cur.next\n",
        "    cur.next = prev\n",
        "    prev = cur\n",
        "    cur = nxt\n",
        "  return prev"
      ],
      "metadata": {
        "id": "xrTgXxEBBZeU"
      },
      "execution_count": 2,
      "outputs": []
    },
    {
      "cell_type": "markdown",
      "source": [
        "#11.\n",
        "Given the root of a binary tree, return the length of the diameter of the tree.\n",
        "\n",
        "The diameter of a binary tree is the length of the longest path between any two nodes in a tree. This path may or may not pass through the root.\n",
        "\n",
        "The length of a path between two nodes is represented by the number of edges between them.\n",
        "\n"
      ],
      "metadata": {
        "id": "g37S1lm3CNZ-"
      }
    },
    {
      "cell_type": "code",
      "source": [
        "def diameterOfBinaryTree(self, root: Optional[TreeNode]) -> int:\n",
        "      res = [0]\n",
        "      def dfs(root):\n",
        "          if not root:\n",
        "              return -1\n",
        "          left = dfs(root.left)\n",
        "          right = dfs(root.right)\n",
        "          res[0]= max(res[0],left+right+2)\n",
        "          return 1+max(left,right)\n",
        "      dfs(root)\n",
        "      return res[0]"
      ],
      "metadata": {
        "id": "6fq7nC4qCBIV"
      },
      "execution_count": null,
      "outputs": []
    }
  ]
}