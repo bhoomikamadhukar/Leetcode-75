{
  "nbformat": 4,
  "nbformat_minor": 0,
  "metadata": {
    "colab": {
      "name": "Grind75-medium-Week3.ipynb",
      "provenance": []
    },
    "kernelspec": {
      "name": "python3",
      "display_name": "Python 3"
    },
    "language_info": {
      "name": "python"
    }
  },
  "cells": [
    {
      "cell_type": "markdown",
      "source": [
        "#1. Longest Substring Without Repeating Characters\n",
        "\n",
        "Given a string s, find the length of the longest substring without repeating characters.\n",
        "\n",
        " \n",
        "\n",
        "Example 1:\n",
        "\n",
        "Input: s = \"abcabcbb\"\n",
        "\n",
        "\n",
        "Output: 3\n",
        "\n",
        "\n",
        "Explanation: The answer is \"abc\", with the length of 3."
      ],
      "metadata": {
        "id": "vBos2GJqJyJq"
      }
    },
    {
      "cell_type": "code",
      "execution_count": null,
      "metadata": {
        "id": "FDS8DcbvJp-M"
      },
      "outputs": [],
      "source": [
        "def longestsubstring(s):\n",
        "  left = 0\n",
        "  res = 0\n",
        "  duplicates = set()\n",
        "  for right in range(len(s)):\n",
        "    if s[right] in duplicates:\n",
        "      duplicates.remove(s[left])\n",
        "      left+=1\n",
        "    duplicates.add(s[right])\n",
        "    res = max(res,right-left+1)\n",
        "  return res"
      ]
    },
    {
      "cell_type": "code",
      "source": [
        "longestsubstring(\"abcabcbb\")"
      ],
      "metadata": {
        "colab": {
          "base_uri": "https://localhost:8080/"
        },
        "id": "OjLcZDRWKcGK",
        "outputId": "0b7eef89-13d7-455c-dc5c-536a80269dd9"
      },
      "execution_count": null,
      "outputs": [
        {
          "output_type": "execute_result",
          "data": {
            "text/plain": [
              "3"
            ]
          },
          "metadata": {},
          "execution_count": 2
        }
      ]
    },
    {
      "cell_type": "markdown",
      "source": [
        "#2. K Closest Points to Origin\n",
        "\n",
        "Given an array of points where points[i] = [xi, yi] represents a point on the X-Y plane and an integer k, return the k closest points to the origin (0, 0).\n",
        "\n",
        "The distance between two points on the X-Y plane is the Euclidean distance (i.e., √(x1 - x2)2 + (y1 - y2)2).\n",
        "\n",
        "You may return the answer in any order. The answer is guaranteed to be unique (except for the order that it is in)."
      ],
      "metadata": {
        "id": "E3LdjFh2MHLt"
      }
    },
    {
      "cell_type": "code",
      "source": [
        "import heapq\n",
        "def kclosest(points, k):\n",
        "  #this is a heap problem\n",
        "  minheap = []\n",
        "  res=[]\n",
        "  for x, y in points:\n",
        "    dist = (x**2)+(y**2)\n",
        "    minheap.append([dist,x,y])\n",
        "  heapq.heapify(minheap)\n",
        "  while k>0:\n",
        "    dist, x, y = heapq.heappop(minheap)\n",
        "    res.append([x,y])\n",
        "    k-=1\n",
        "  return res\n"
      ],
      "metadata": {
        "id": "ZAeZwWJMKe3I"
      },
      "execution_count": null,
      "outputs": []
    },
    {
      "cell_type": "code",
      "source": [
        "kclosest([[1,3],[-2,2]],1)"
      ],
      "metadata": {
        "colab": {
          "base_uri": "https://localhost:8080/"
        },
        "id": "7zlFYjyRNJGT",
        "outputId": "c0c35e24-5d10-45f0-db3f-4548be15beb1"
      },
      "execution_count": null,
      "outputs": [
        {
          "output_type": "execute_result",
          "data": {
            "text/plain": [
              "[[-2, 2]]"
            ]
          },
          "metadata": {},
          "execution_count": 6
        }
      ]
    },
    {
      "cell_type": "markdown",
      "source": [
        "#3. 01 matrix\n",
        "\n",
        "Given an m x n binary matrix mat, return the distance of the nearest 0 for each cell.\n",
        "\n",
        "The distance between two adjacent cells is 1.\n",
        "\n"
      ],
      "metadata": {
        "id": "DgbOyV6xNwOU"
      }
    },
    {
      "cell_type": "code",
      "source": [
        "def updateMatrix(mat):\n",
        "  #this is bfs\n",
        "  output = []\n",
        "  height = len(mat)\n",
        "  width = len(mat[0])\n",
        "  for i in range(height):\n",
        "      for j in range(width):\n",
        "          if mat[i][j]==0:\n",
        "              output.append((i,j))\n",
        "          else:\n",
        "              mat[i][j]='#'\n",
        "  for row, col in output:\n",
        "      for r,c in (1,0),(-1,0),(0,1),(0,-1):\n",
        "          nr = r+row\n",
        "          nc = c+col\n",
        "          if 0<= nr< height and 0<= nc< width and mat[nr][nc]=='#':\n",
        "              mat[nr][nc]= mat[row][col]+1\n",
        "              output.append((nr,nc))\n",
        "  return mat\n",
        "          \n",
        "    "
      ],
      "metadata": {
        "id": "E76AQdzgNvls"
      },
      "execution_count": null,
      "outputs": []
    },
    {
      "cell_type": "code",
      "source": [
        "updateMatrix([[0,0,0],[0,1,0],[1,1,1]])"
      ],
      "metadata": {
        "colab": {
          "base_uri": "https://localhost:8080/"
        },
        "id": "OTTfkYhNNOQa",
        "outputId": "e21e6da6-d3cb-4465-ced0-862fb159e12c"
      },
      "execution_count": null,
      "outputs": [
        {
          "output_type": "execute_result",
          "data": {
            "text/plain": [
              "[[0, 0, 0], [0, 1, 0], [1, 2, 1]]"
            ]
          },
          "metadata": {},
          "execution_count": 16
        }
      ]
    },
    {
      "cell_type": "markdown",
      "source": [
        "#4. Insert interval \n",
        "\n",
        "You are given an array of non-overlapping intervals intervals where intervals[i] = [starti, endi] represent the start and the end of the ith interval and intervals is sorted in ascending order by starti. You are also given an interval newInterval = [start, end] that represents the start and end of another interval.\n",
        "\n",
        "Insert newInterval into intervals such that intervals is still sorted in ascending order by starti and intervals still does not have any overlapping intervals (merge overlapping intervals if necessary).\n",
        "\n",
        "Return intervals after the insertion."
      ],
      "metadata": {
        "id": "L3VTWnEXSaQu"
      }
    },
    {
      "cell_type": "markdown",
      "source": [
        "Input: intervals = [[1,3],[6,9]], newInterval = [2,5]\n",
        "\n",
        "\n",
        "Output: [[1,5],[6,9]]"
      ],
      "metadata": {
        "id": "EisF4aXYShWY"
      }
    },
    {
      "cell_type": "code",
      "source": [
        "def insertInterval(intervals, newInterval):\n",
        "  output = []\n",
        "  for i in range(len(intervals)):\n",
        "    if newInterval[1] < intervals[i][0]:\n",
        "      output.append(newInterval)\n",
        "      return output + intervals[i:]\n",
        "    elif newInterval[0]> intervals[i][1]:\n",
        "      output.append(intervals[i])\n",
        "    else:\n",
        "      newInterval = [min(newInterval[0],intervals[i][0]), max(newInterval[1],intervals[i][1])]\n",
        "  output.append(newInterval)\n",
        "  return output"
      ],
      "metadata": {
        "id": "OtLr6S1aP28m"
      },
      "execution_count": null,
      "outputs": []
    },
    {
      "cell_type": "code",
      "source": [
        "insertInterval([[1,3],[6,9]],[2,5])"
      ],
      "metadata": {
        "colab": {
          "base_uri": "https://localhost:8080/"
        },
        "id": "BRJ6KER2TX5j",
        "outputId": "10409603-a483-40a3-c9cc-cc1c4fb51c3b"
      },
      "execution_count": null,
      "outputs": [
        {
          "output_type": "execute_result",
          "data": {
            "text/plain": [
              "[[1, 5], [6, 9]]"
            ]
          },
          "metadata": {},
          "execution_count": 22
        }
      ]
    },
    {
      "cell_type": "markdown",
      "source": [
        "#5. Binary tree level order traversal\n",
        "\n",
        "Given the root of a binary tree, return the level order traversal of its nodes' values. (i.e., from left to right, level by level)."
      ],
      "metadata": {
        "id": "do0OVDJzAq7P"
      }
    },
    {
      "cell_type": "markdown",
      "source": [
        "Can be done in dfs or bfs"
      ],
      "metadata": {
        "id": "INWUHRCKByOg"
      }
    },
    {
      "cell_type": "code",
      "source": [
        "def levelorder(root):\n",
        "  res=[]\n",
        "  def dfs(root,level):\n",
        "    if root:\n",
        "      if len(res) <= level:\n",
        "        res.append(root.val)\n",
        "      else:\n",
        "        res[level].append(root.val)\n",
        "    return root.val + dfs(root.left,level+1)+dfs(root.right,level+1) if root else []\n",
        "  dfs(root,0)\n",
        "  return res\n",
        "      \n"
      ],
      "metadata": {
        "id": "LJtscsbeTdzK"
      },
      "execution_count": null,
      "outputs": []
    },
    {
      "cell_type": "code",
      "source": [
        "#bfs\n",
        "def levelorder(root):\n",
        "  res=[]\n",
        "  q= deque()\n",
        "  q.append(root)\n",
        "  while q:\n",
        "    qlen = len(q)\n",
        "    level =[]\n",
        "    for i in range(qlen):\n",
        "      node = q.popleft()\n",
        "      if node:\n",
        "        level.append(node.val)\n",
        "        q.append(node.left)\n",
        "        q.append(node.right)\n",
        "      if level:\n",
        "        res.append(level)\n",
        "    return res"
      ],
      "metadata": {
        "id": "VcIButHvB1SJ"
      },
      "execution_count": null,
      "outputs": []
    },
    {
      "cell_type": "markdown",
      "source": [
        "#6. Clone graph\n",
        "\n",
        "Given a reference of a node in a connected undirected graph.\n",
        "\n",
        "Return a deep copy (clone) of the graph.\n",
        "\n",
        "Each node in the graph contains a value (int) and a list (List[Node]) of its neighbors.\n",
        "\n"
      ],
      "metadata": {
        "id": "UXu9MKUyDf0I"
      }
    },
    {
      "cell_type": "code",
      "source": [
        "def clonegraph(node):\n",
        "  copyMap = {}\n",
        "  def dfs(node):\n",
        "    if node in copyMap:\n",
        "      return copyMap[node]\n",
        "    copy = Node(node.val)\n",
        "    copyMap[node]= copy\n",
        "\n",
        "    #now values are added but edges are not\n",
        "\n",
        "    for n in node.neighbors:\n",
        "      copy.neighbors.append(dfs(n))\n",
        "    return copy\n",
        "\n",
        "  return dfs(node) if node else None\n"
      ],
      "metadata": {
        "id": "LSvUE5HdC8eb"
      },
      "execution_count": null,
      "outputs": []
    },
    {
      "cell_type": "markdown",
      "source": [
        "#7. 3Sum\n",
        "Given an integer array nums, return all the triplets [nums[i], nums[j], nums[k]] such that i != j, i != k, and j != k, and nums[i] + nums[j] + nums[k] == 0.\n",
        "\n",
        "Notice that the solution set must not contain duplicate triplets."
      ],
      "metadata": {
        "id": "w0uZ1iLbEWIl"
      }
    },
    {
      "cell_type": "code",
      "source": [
        "def threeSum(nums):\n",
        "  res = set()\n",
        "  nums.sort()\n",
        "  for i in range(len(nums)-2):\n",
        "    j=i+1\n",
        "    k= len(nums)-1\n",
        "\n",
        "    while j<k:\n",
        "      \n",
        "      triplets = nums[i]+nums[j]+nums[k]\n",
        "      if triplets == 0:\n",
        "        res.add((nums[i],nums[j],nums[k]))\n",
        "        j+=1\n",
        "        k-=1\n",
        "      elif triplets < 0:\n",
        "        j+=1\n",
        "      elif triplets > 0:\n",
        "        k-=1\n",
        "  return res"
      ],
      "metadata": {
        "id": "m4yj3_LHEXk9"
      },
      "execution_count": 4,
      "outputs": []
    },
    {
      "cell_type": "code",
      "source": [
        "threeSum([-1,0,1,2,-1,-4])"
      ],
      "metadata": {
        "colab": {
          "base_uri": "https://localhost:8080/"
        },
        "id": "FR8DzuD_E13x",
        "outputId": "ae70a966-369f-4995-a7a6-3820c2b1dca9"
      },
      "execution_count": 5,
      "outputs": [
        {
          "output_type": "execute_result",
          "data": {
            "text/plain": [
              "{(-1, -1, 2), (-1, 0, 1)}"
            ]
          },
          "metadata": {},
          "execution_count": 5
        }
      ]
    },
    {
      "cell_type": "markdown",
      "source": [
        "#8. Evaluate Reverse Polish Notation\n",
        "\n",
        "Evaluate the value of an arithmetic expression in Reverse Polish Notation.\n",
        "\n",
        "Valid operators are +, -, *, and /. Each operand may be an integer or another expression.\n",
        "\n",
        "Note that division between two integers should truncate toward zero.\n",
        "\n",
        "It is guaranteed that the given RPN expression is always valid. That means the expression would always evaluate to a result, and there will not be any division by zero operation."
      ],
      "metadata": {
        "id": "UF7WU50JMQW9"
      }
    },
    {
      "cell_type": "code",
      "source": [
        "def evalRPN(s):\n",
        "  stack=[]\n",
        "  for i in s:\n",
        "    if i == '+':\n",
        "      a= int(stack.pop())\n",
        "      b=int(stack.pop())\n",
        "      stack.append(b+a)\n",
        "    elif i=='*':\n",
        "      a= int(stack.pop())\n",
        "      b=int(stack.pop())\n",
        "      stack.append(b*a)\n",
        "    elif i=='-':\n",
        "      a= int(stack.pop())\n",
        "      b=int(stack.pop())\n",
        "      stack.append(b-a)\n",
        "    elif i=='/':\n",
        "      a= int(stack.pop())\n",
        "      b=int(stack.pop())\n",
        "      stack.append(int(b/a))\n",
        "    else:\n",
        "      stack.append(i)\n",
        "  return stack[0]"
      ],
      "metadata": {
        "id": "XhoKkYoLE-Hh"
      },
      "execution_count": 12,
      "outputs": []
    },
    {
      "cell_type": "code",
      "source": [
        "evalRPN([\"2\",\"1\",\"+\",\"3\",\"*\"])"
      ],
      "metadata": {
        "colab": {
          "base_uri": "https://localhost:8080/"
        },
        "id": "aDyB6A6fOaxT",
        "outputId": "2cd1d204-1b82-4c3e-bf0a-b9f2b7da136e"
      },
      "execution_count": 13,
      "outputs": [
        {
          "output_type": "execute_result",
          "data": {
            "text/plain": [
              "9"
            ]
          },
          "metadata": {},
          "execution_count": 13
        }
      ]
    },
    {
      "cell_type": "code",
      "source": [
        ""
      ],
      "metadata": {
        "id": "D0m8nGfTOh2o"
      },
      "execution_count": null,
      "outputs": []
    }
  ]
}