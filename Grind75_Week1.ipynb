{
  "nbformat": 4,
  "nbformat_minor": 0,
  "metadata": {
    "colab": {
      "name": "Grind75-Week1.ipynb",
      "provenance": []
    },
    "kernelspec": {
      "name": "python3",
      "display_name": "Python 3"
    },
    "language_info": {
      "name": "python"
    }
  },
  "cells": [
    {
      "cell_type": "markdown",
      "source": [
        "# 1. Linked List Cycle\n",
        "Given head, the head of a linked list, determine if the linked list has a cycle in it.\n",
        "\n",
        "There is a cycle in a linked list if there is some node in the list that can be reached again by continuously following the next pointer. Internally, pos is used to denote the index of the node that tail's next pointer is connected to. Note that pos is not passed as a parameter.\n",
        "\n",
        "Return true if there is a cycle in the linked list. Otherwise, return false."
      ],
      "metadata": {
        "id": "dEGNaXf47Yvh"
      }
    },
    {
      "cell_type": "markdown",
      "source": [
        "Things to remember:\n",
        "\n",
        "\n",
        "1.   This algorithm is called floyd tortoise and hare algorithm.\n",
        "2.   If there is a circle then the slow and fast pointers will meet at some point. Else fast will move towards the end of the list and slow would never meet fast.\n",
        "\n"
      ],
      "metadata": {
        "id": "OxSrWOxC92BR"
      }
    },
    {
      "cell_type": "code",
      "execution_count": 7,
      "metadata": {
        "id": "z-6Cl7p37HB3"
      },
      "outputs": [],
      "source": [
        "class ListNode:\n",
        "    def __init__(self, x):\n",
        "        self.val = x\n",
        "        self.next = None\n",
        "class Solutions:\n",
        "  def hasCycle(self,head:ListNode):\n",
        "    slow = head\n",
        "    fast = head\n",
        "    while fast and fast.next:\n",
        "      slow = slow.next\n",
        "      fast = fast.next.next\n",
        "      if slow==fast:\n",
        "        return True\n",
        "    return False"
      ]
    },
    {
      "cell_type": "markdown",
      "source": [
        "# 2. Balanced binary tree\n",
        "Given a binary tree, determine if it is height-balanced.\n",
        "\n",
        "For this problem, a height-balanced binary tree is defined as:\n",
        "\n",
        "a binary tree in which the left and right subtrees of every node differ in height by no more than 1.\n",
        "\n"
      ],
      "metadata": {
        "id": "I3QB9lmb9NWp"
      }
    },
    {
      "cell_type": "markdown",
      "source": [
        "Things to remember:\n",
        "\n",
        "\n",
        "1.   This is a bottom up approach of dfs.\n",
        "2.   the reason left[1] and right[1] is taken is because dfs is returning the bool value and height and we need difference of heights. \n",
        "\n"
      ],
      "metadata": {
        "id": "HlEvrbJvAn-1"
      }
    },
    {
      "cell_type": "code",
      "source": [
        "# class TreeNode:\n",
        "#     def __init__(self, val=0, left=None, right=None):\n",
        "#         self.val = val\n",
        "#         self.left = left\n",
        "#         self.right = right\n",
        "def isBalanced(root):\n",
        "  def dfs(root):\n",
        "    if not root:\n",
        "      return [True,0]\n",
        "    left = dfs(root.left)\n",
        "    right = dfs(root.right)\n",
        "    height = abs(left[1]-right[1])\n",
        "    check_balance = (left[0]and right[0] and height<=1)\n",
        "    return (check_balance,1+max(left[1],right[1]))\n",
        "  return dfs(root)[0]"
      ],
      "metadata": {
        "id": "kIRTAVEX87qA"
      },
      "execution_count": 8,
      "outputs": []
    },
    {
      "cell_type": "markdown",
      "source": [
        "# 3. Lowest Common Ancestor of a Binary Search Tree\n",
        "\n",
        "Given a binary search tree (BST), find the lowest common ancestor (LCA) of two given nodes in the BST.\n",
        "\n",
        "According to the definition of LCA on Wikipedia: “The lowest common ancestor is defined between two nodes p and q as the lowest node in T that has both p and q as descendants (where we allow a node to be a descendant of itself).”"
      ],
      "metadata": {
        "id": "289ScY3QBALj"
      }
    },
    {
      "cell_type": "markdown",
      "source": [
        "Things to remember:\n",
        "\n",
        "\n",
        "1.  In a bst, the left child will always have value lesser than root and right child will have value more than root. \n",
        "2.  If there is a split, then return current value\n",
        "\n",
        "\n",
        "\n"
      ],
      "metadata": {
        "id": "5UbTauqLGZMS"
      }
    },
    {
      "cell_type": "code",
      "source": [
        "def lowest_common_bst(root,p,q):\n",
        "  cur = root\n",
        "  while cur:\n",
        "    if p.val<cur.val and q.val < cur.val:\n",
        "      cur = cur.left\n",
        "    elif p.val > cur.val and q.val > cur.val:\n",
        "      cur = cur.right\n",
        "    else:\n",
        "      return cur"
      ],
      "metadata": {
        "id": "NEzNBqT3A63C"
      },
      "execution_count": 9,
      "outputs": []
    },
    {
      "cell_type": "markdown",
      "source": [
        "# 4. Maximum subarray\n",
        "Given an integer array nums, find the contiguous subarray (containing at least one number) which has the largest sum and return its sum.\n",
        "\n",
        "A subarray is a contiguous part of an array."
      ],
      "metadata": {
        "id": "DuizNm9IISjQ"
      }
    },
    {
      "cell_type": "code",
      "source": [
        "def maxSubArray(nums):\n",
        "  min_el =0\n",
        "  max_el = -999999\n",
        "  for i in range(len(nums)):\n",
        "    min_el = min_el + nums[i]\n",
        "    if min_el > max_el:\n",
        "      max_el = min_el\n",
        "    if min_el < 0:\n",
        "      min_el =0\n",
        "  return max_el\n"
      ],
      "metadata": {
        "id": "MoyIHpooEQ4H"
      },
      "execution_count": 10,
      "outputs": []
    },
    {
      "cell_type": "markdown",
      "source": [
        "# 5. Flood fill\n",
        "An image is represented by an m x n integer grid image where image[i][j] represents the pixel value of the image.\n",
        "\n",
        "You are also given three integers sr, sc, and color. You should perform a flood fill on the image starting from the pixel image[sr][sc].\n",
        "\n",
        "To perform a flood fill, consider the starting pixel, plus any pixels connected 4-directionally to the starting pixel of the same color as the starting pixel, plus any pixels connected 4-directionally to those pixels (also with the same color), and so on. Replace the color of all of the aforementioned pixels with color.\n",
        "\n",
        "Return the modified image after performing the flood fill."
      ],
      "metadata": {
        "id": "6nnAM_5kIz6v"
      }
    },
    {
      "cell_type": "code",
      "source": [
        "def floodfill(image,sr,sc,color):\n",
        "  row = len(image)-1\n",
        "  col = len(image[0])-1\n",
        "  def dfs(r,c,img):\n",
        "    if image[r][c]==color:\n",
        "      return \n",
        "    image[r][c]= color\n",
        "    if r-1>=0 and image[r-1][c]==img:\n",
        "      dfs(r-1,c,img)\n",
        "    if c-1>=0 and image[r][c-1]==img:\n",
        "      dfs(r,c-1,img)\n",
        "    if r+1<= row and image[r+1][c]==img:\n",
        "      dfs(r+1,c,img)\n",
        "    if c+1<= col and image[r][c+1]==img:\n",
        "      dfs(r,c+1,img)\n",
        "  dfs(sr,sr,image[sr][sc])\n",
        "  return image"
      ],
      "metadata": {
        "id": "j7q_RfUmIzWS"
      },
      "execution_count": 11,
      "outputs": []
    },
    {
      "cell_type": "markdown",
      "source": [
        "# 6. Valid Anagram\n",
        "\n",
        "Given two strings s and t, return true if t is an anagram of s, and false otherwise.\n",
        "\n",
        "An Anagram is a word or phrase formed by rearranging the letters of a different word or phrase, typically using all the original letters exactly once."
      ],
      "metadata": {
        "id": "RZf2jJaeJvgM"
      }
    },
    {
      "cell_type": "markdown",
      "source": [
        "Things to remember:\n",
        "You can just use python counter, Works the same way"
      ],
      "metadata": {
        "id": "iZCT_cZtKexm"
      }
    },
    {
      "cell_type": "code",
      "source": [
        "def anagram(s,t):\n",
        "  if len(s)!=len(t):\n",
        "    return False\n",
        "  countS, countT = {}, {}\n",
        "  for i in range(len(s)):\n",
        "    countS[s[i]]=countS.get(s[i],0)+1\n",
        "    countT[t[i]]=countT.get(t[i],0)+1\n",
        "  for c in countS:\n",
        "    if countS[c]!= countT.get(c,0):\n",
        "      return False\n",
        "  return True"
      ],
      "metadata": {
        "id": "DoTz0AcFJn-8"
      },
      "execution_count": 12,
      "outputs": []
    },
    {
      "cell_type": "markdown",
      "source": [
        "# 7. Invert a binary tree\n",
        "Given the root of a binary tree, invert the tree, and return its root.\n"
      ],
      "metadata": {
        "id": "MKbke5DjKj0Y"
      }
    },
    {
      "cell_type": "code",
      "source": [
        "def invert(root):\n",
        "  if root is None:\n",
        "    return root\n",
        "  temp = root.left\n",
        "  root.left = root.right\n",
        "  root.right = temp\n",
        "  invert(root.left)\n",
        "  invert(root.right)\n",
        "  return root"
      ],
      "metadata": {
        "id": "w5CV-3f1Kdan"
      },
      "execution_count": 13,
      "outputs": []
    },
    {
      "cell_type": "markdown",
      "source": [
        "# 8. Valid palindrome\n",
        "A phrase is a palindrome if, after converting all uppercase letters into lowercase letters and removing all non-alphanumeric characters, it reads the same forward and backward. Alphanumeric characters include letters and numbers.\n",
        "\n",
        "Given a string s, return true if it is a palindrome, or false otherwise.\n"
      ],
      "metadata": {
        "id": "wCl_lVS5LHmf"
      }
    },
    {
      "cell_type": "markdown",
      "source": [
        "Things to remember:\n",
        "'_' is not removed with regex. It is a character type."
      ],
      "metadata": {
        "id": "1yM0iWQjLKco"
      }
    },
    {
      "cell_type": "code",
      "source": [
        "def isPalindrome(self, s: str) -> bool:\n",
        "        if s==\" \":\n",
        "            return True\n",
        "        clean_text = re.sub(r'[^\\w\\s]','',s)\n",
        "        if '_' in clean_text:\n",
        "            clean_text = clean_text.replace('_','')\n",
        "        cleaned_lower = clean_text.lower()\n",
        "        splitterms = cleaned_lower.split(' ')\n",
        "        palindrome = ('').join(splitterms)\n",
        "        return True if palindrome == palindrome[::-1] else False"
      ],
      "metadata": {
        "id": "2ndqjV6HLC7F"
      },
      "execution_count": 14,
      "outputs": []
    },
    {
      "cell_type": "markdown",
      "source": [
        "# 9. Best time to buy and sell stock \n",
        "You are given an array prices where prices[i] is the price of a given stock on the ith day.\n",
        "\n",
        "You want to maximize your profit by choosing a single day to buy one stock and choosing a different day in the future to sell that stock.\n",
        "\n",
        "Return the maximum profit you can achieve from this transaction. If you cannot achieve any profit, return 0."
      ],
      "metadata": {
        "id": "kIbOjyPhLT5z"
      }
    },
    {
      "cell_type": "code",
      "source": [
        "def stockprice(price):\n",
        "  profit = price[0]\n",
        "  largest_diff =0\n",
        "  for i in range(1,len(price)):\n",
        "    if price[i] < profit:\n",
        "      profit = price[i]\n",
        "    else:\n",
        "      diff = price[i]-profit\n",
        "      if diff > largest_diff:\n",
        "        largest_diff = diff\n",
        "  return largest_diff\n",
        "\n"
      ],
      "metadata": {
        "id": "lqaFZvFpLStC"
      },
      "execution_count": 15,
      "outputs": []
    },
    {
      "cell_type": "markdown",
      "source": [
        "# 10. Valid paranthesis\n",
        "\n",
        "Given a string s containing just the characters '(', ')', '{', '}', '[' and ']', determine if the input string is valid.\n",
        "\n",
        "An input string is valid if:\n",
        "\n",
        "Open brackets must be closed by the same type of brackets.\n",
        "Open brackets must be closed in the correct order."
      ],
      "metadata": {
        "id": "LUOU-e0IL3Km"
      }
    },
    {
      "cell_type": "code",
      "source": [
        "def validParantheses(s):\n",
        "  if len(s)%2!=0:\n",
        "    return False\n",
        "  mappings = {'(':')','{':'}','[':']'}\n",
        "  stack = []\n",
        "  for i in s:\n",
        "    if i in mappings.keys():\n",
        "      stack.append(i)\n",
        "    else:\n",
        "      if stack ==[]:\n",
        "        return False\n",
        "      a = stack.pop()\n",
        "      if i!= mappings[a]:\n",
        "        return False\n",
        "    return stack ==[]\n"
      ],
      "metadata": {
        "id": "JYV5_c0QL2cT"
      },
      "execution_count": 16,
      "outputs": []
    },
    {
      "cell_type": "markdown",
      "source": [
        "# 11. Merge two sorted linked lists\n",
        "You are given the heads of two sorted linked lists list1 and list2.\n",
        "\n",
        "Merge the two lists in a one sorted list. The list should be made by splicing together the nodes of the first two lists.\n",
        "\n",
        "Return the head of the merged linked list.\n",
        "\n",
        "\n",
        "\n",
        "Always start with a dummy linked list"
      ],
      "metadata": {
        "id": "Mk-JLpPrMrC-"
      }
    },
    {
      "cell_type": "code",
      "source": [
        "def mergeLists(list1,list2):\n",
        "  dummy = ListNode()\n",
        "  head = dummy\n",
        "  while list1 and list2:\n",
        "    if list1.val < list2.val:\n",
        "      head.next = list1\n",
        "      list1 = list1.next\n",
        "    if list2.val < list1.val:\n",
        "      head.next = list2\n",
        "      list2 = list2.next\n",
        "    head = head.next\n",
        "  if list1:\n",
        "    head.next = list1\n",
        "  if list2:\n",
        "    head.next = list2\n",
        "  return dummy.next\n"
      ],
      "metadata": {
        "id": "TGyxzr13MnC7"
      },
      "execution_count": 17,
      "outputs": []
    },
    {
      "cell_type": "markdown",
      "source": [
        "# 12. Two sum\n",
        "Given an array of integers nums and an integer target, return indices of the two numbers such that they add up to target.\n",
        "\n",
        "You may assume that each input would have exactly one solution, and you may not use the same element twice.\n",
        "\n",
        "You can return the answer in any order.\n",
        "\n"
      ],
      "metadata": {
        "id": "Fw0nfgFANbIy"
      }
    },
    {
      "cell_type": "code",
      "source": [
        "def twoSum(nums,target):\n",
        "  result =defaultdict(int)\n",
        "  for i in range(len(nums)):\n",
        "      twosum = target - nums[i]\n",
        "      if twosum in result:\n",
        "          return [i,result[nums[i]]]\n",
        "      result[nums[i]]=i"
      ],
      "metadata": {
        "id": "1CXRBJVqNVRU"
      },
      "execution_count": 20,
      "outputs": []
    }
  ]
}